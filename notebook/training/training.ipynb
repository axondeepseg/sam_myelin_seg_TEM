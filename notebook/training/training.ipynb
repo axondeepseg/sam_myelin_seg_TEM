{
 "cells": [
  {
   "cell_type": "code",
   "execution_count": 1,
   "id": "65b03cc5",
   "metadata": {},
   "outputs": [],
   "source": [
    "from pathlib import Path\n",
    "import numpy as np\n",
    "import matplotlib.pyplot as plt\n",
    "import cv2\n",
    "import torch\n",
    "import pandas as pd\n",
    "from collections import defaultdict\n",
    "\n",
    "import sys\n",
    "sys.path.append('../../scripts')\n",
    "import bids_utils\n",
    "from segment_anything import SamPredictor, sam_model_registry"
   ]
  },
  {
   "cell_type": "code",
   "execution_count": 5,
   "id": "352cc151",
   "metadata": {},
   "outputs": [
    {
     "name": "stdout",
     "output_type": "stream",
     "text": [
      "158 samples collected.\n"
     ]
    }
   ],
   "source": [
    "datapath = Path('/home/herman/Documents/NEUROPOLY_21/datasets/data_axondeepseg_tem/')\n",
    "derivatives_path = Path('../../scripts/derivatives')\n",
    "embeddings_path = derivatives_path / 'embeddings'\n",
    "maps_path = derivatives_path / 'maps'\n",
    "\n",
    "data_dict = bids_utils.index_bids_dataset(datapath)"
   ]
  },
  {
   "cell_type": "code",
   "execution_count": 41,
   "id": "6594f2c5",
   "metadata": {},
   "outputs": [
    {
     "name": "stdout",
     "output_type": "stream",
     "text": [
      "[1534 1668 2056 2267]\n"
     ]
    },
    {
     "data": {
      "text/plain": [
       "<matplotlib.image.AxesImage at 0x7f8da83d84c0>"
      ]
     },
     "execution_count": 41,
     "metadata": {},
     "output_type": "execute_result"
    },
    {
     "data": {
      "image/png": "[encoded data removed]",
      "text/plain": [
       "<Figure size 640x480 with 1 Axes>"
      ]
     },
     "metadata": {},
     "output_type": "display_data"
    }
   ],
   "source": [
    "# utility functions to read prompts and labels\n",
    "%matplotlib inline\n",
    "def get_sample_bboxes(subject, sample, maps_path):\n",
    "    prompts_fname = maps_path / subject / 'micr' / f'{subject}_{sample}_prompts.csv'\n",
    "    prompts_df = pd.read_csv(prompts_fname)\n",
    "    return prompts_df[['bbox_min_x', 'bbox_min_y', 'bbox_max_x', 'bbox_max_y']]\n",
    "\n",
    "def get_myelin_bbox(bbox_df, axon_id):\n",
    "    return np.array(bbox_df.iloc[axon_id])\n",
    "\n",
    "def get_myelin_map(subject, sample, maps_path):\n",
    "    map_fname = maps_path / subject / 'micr' / f'{subject}_{sample}_myelinmap.png'\n",
    "    return cv2.imread(str(map_fname))\n",
    "    \n",
    "def get_myelin_mask(myelin_map, axon_id):\n",
    "    return myelin_map * (myelin_map == axon_id + 1)\n",
    "\n",
    "bbox_df = get_sample_bboxes('sub-nyuMouse07', 'sample-0007', maps_path)\n",
    "bbox = get_myelin_bbox(bbox_df, 52)\n",
    "print(bbox)\n",
    "mmap = get_myelin_map('sub-nyuMouse07', 'sample-0007', maps_path)\n",
    "plt.imshow(get_myelin_mask(mmap, 52))"
   ]
  },
  {
   "cell_type": "code",
   "execution_count": 7,
   "id": "12398bbf",
   "metadata": {},
   "outputs": [],
   "source": [
    "model_type = 'vit_b'\n",
    "checkpoint = '../../scripts/sam_vit_b_01ec64.pth'\n",
    "device = 'cpu'#'cuda:2'\n",
    "\n",
    "sam_model = sam_model_registry[model_type](checkpoint=checkpoint)\n",
    "sam_model.to(device)\n",
    "sam_model.train();"
   ]
  }
 ],
 "metadata": {
  "kernelspec": {
   "display_name": "Python 3 (ipykernel)",
   "language": "python",
   "name": "python3"
  },
  "language_info": {
   "codemirror_mode": {
    "name": "ipython",
    "version": 3
   },
   "file_extension": ".py",
   "mimetype": "text/x-python",
   "name": "python",
   "nbconvert_exporter": "python",
   "pygments_lexer": "ipython3",
   "version": "3.10.10"
  }
 },
 "nbformat": 4,
 "nbformat_minor": 5
}
